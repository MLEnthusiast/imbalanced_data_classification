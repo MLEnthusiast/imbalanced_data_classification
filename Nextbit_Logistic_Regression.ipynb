{
 "cells": [
  {
   "cell_type": "markdown",
   "metadata": {},
   "source": [
    "# Nextbit Test\n",
    "\n",
    "### Data description\n",
    "`deaths.csv` contains US data, for 1997-2002, from police-reported car crashes in which there is a harmful event (people or property), and from which at least one vehicle was towed. Data are restricted to front-seat occupants, include only a subset of the variables recorded, and are restricted in other ways also.\n",
    "\n",
    "**Format:**\n",
    "A data frame with 26217 observations on the following 15 variables.\n",
    "\n",
    "- `dvcat`: ordered factor with levels (estimated impact speeds) 1-9km/h, 10-24, 25-39, 40-54, 55+\n",
    "- `weight`:\n",
    "observation weights, albeit of uncertain accuracy, designed to account for varying sampling probabilities.\n",
    "- `dead`:\n",
    "factor with levels alive dead\n",
    "- `airbag`:\n",
    "a factor with levels none airbag\n",
    "- `seatbelt`:\n",
    "a factor with levels none belted\n",
    "- `frontal`:\n",
    "a numeric vector; 0 = non-frontal, 1=frontal impact\n",
    "- `sex`:\n",
    "a factor with levels f m\n",
    "- `ageOFocc`:\n",
    "age of occupant in years\n",
    "- `yearacc`:\n",
    "year of accident\n",
    "- `yearVeh`:\n",
    "Year of model of vehicle; a numeric vector\n",
    "- `abcat`:\n",
    "did one or more (driver or passenger) airbag(s) deploy? This factor has levels deploy nodeploy unavail\n",
    "- `occRole`:\n",
    "a factor with levels driver pass\n",
    "- `deploy`:\n",
    "a numeric vector: 0 if an airbag was unavailable or did not deploy; 1 if one or more bags deployed.\n",
    "- `injSeverity`:\n",
    "a numeric vector; 0:none, 1:possible injury, 2:no incapacity, 3:incapacity, 4:killed; 5:unknown, 6:prior death\n",
    "- `caseid`:\n",
    "character, created by pasting together the populations sampling unit, the case number, and the vehicle number. Within each year, use this to uniquely identify the vehicle.\n",
    "\n",
    "### Exercises\n",
    "- **E1.** Develop different models to predict the variable `dead` (alive or dead). Explain your choices.\n",
    "- **E2.** Select the best model and explain your choice.\n",
    "- **E3.** *(optional)* Train a neural network to predict the variable `dead`. Explain your choices. Did you achieve a better performance with respect to the model selected in **E2.**? Why?"
   ]
  },
  {
   "cell_type": "markdown",
   "metadata": {},
   "source": [
    "### Classifier: Logistic Regression\n",
    "\n",
    "I have chosen this kind of classifier since it is a binary classification problem"
   ]
  },
  {
   "cell_type": "code",
   "execution_count": 1,
   "metadata": {
    "collapsed": true
   },
   "outputs": [],
   "source": [
    "import numpy as np\n",
    "import pandas as pd\n",
    "\n",
    "np.random.seed(123)"
   ]
  },
  {
   "cell_type": "code",
   "execution_count": 2,
   "metadata": {},
   "outputs": [
    {
     "data": {
      "text/html": [
       "<div>\n",
       "<style>\n",
       "    .dataframe thead tr:only-child th {\n",
       "        text-align: right;\n",
       "    }\n",
       "\n",
       "    .dataframe thead th {\n",
       "        text-align: left;\n",
       "    }\n",
       "\n",
       "    .dataframe tbody tr th {\n",
       "        vertical-align: top;\n",
       "    }\n",
       "</style>\n",
       "<table border=\"1\" class=\"dataframe\">\n",
       "  <thead>\n",
       "    <tr style=\"text-align: right;\">\n",
       "      <th></th>\n",
       "      <th>dvcat</th>\n",
       "      <th>weight</th>\n",
       "      <th>dead</th>\n",
       "      <th>airbag</th>\n",
       "      <th>seatbelt</th>\n",
       "      <th>frontal</th>\n",
       "      <th>sex</th>\n",
       "      <th>ageOFocc</th>\n",
       "      <th>yearacc</th>\n",
       "      <th>yearVeh</th>\n",
       "      <th>abcat</th>\n",
       "      <th>occRole</th>\n",
       "      <th>deploy</th>\n",
       "      <th>injSeverity</th>\n",
       "      <th>caseid</th>\n",
       "    </tr>\n",
       "  </thead>\n",
       "  <tbody>\n",
       "    <tr>\n",
       "      <th>0</th>\n",
       "      <td>25-39</td>\n",
       "      <td>25.069</td>\n",
       "      <td>alive</td>\n",
       "      <td>none</td>\n",
       "      <td>belted</td>\n",
       "      <td>1</td>\n",
       "      <td>f</td>\n",
       "      <td>26</td>\n",
       "      <td>1997</td>\n",
       "      <td>1990.0</td>\n",
       "      <td>unavail</td>\n",
       "      <td>driver</td>\n",
       "      <td>0</td>\n",
       "      <td>3.0</td>\n",
       "      <td>2:3:1</td>\n",
       "    </tr>\n",
       "    <tr>\n",
       "      <th>1</th>\n",
       "      <td>10-24</td>\n",
       "      <td>25.069</td>\n",
       "      <td>alive</td>\n",
       "      <td>airbag</td>\n",
       "      <td>belted</td>\n",
       "      <td>1</td>\n",
       "      <td>f</td>\n",
       "      <td>72</td>\n",
       "      <td>1997</td>\n",
       "      <td>1995.0</td>\n",
       "      <td>deploy</td>\n",
       "      <td>driver</td>\n",
       "      <td>1</td>\n",
       "      <td>1.0</td>\n",
       "      <td>2:3:2</td>\n",
       "    </tr>\n",
       "    <tr>\n",
       "      <th>2</th>\n",
       "      <td>10-24</td>\n",
       "      <td>32.379</td>\n",
       "      <td>alive</td>\n",
       "      <td>none</td>\n",
       "      <td>none</td>\n",
       "      <td>1</td>\n",
       "      <td>f</td>\n",
       "      <td>69</td>\n",
       "      <td>1997</td>\n",
       "      <td>1988.0</td>\n",
       "      <td>unavail</td>\n",
       "      <td>driver</td>\n",
       "      <td>0</td>\n",
       "      <td>4.0</td>\n",
       "      <td>2:5:1</td>\n",
       "    </tr>\n",
       "    <tr>\n",
       "      <th>3</th>\n",
       "      <td>25-39</td>\n",
       "      <td>495.444</td>\n",
       "      <td>alive</td>\n",
       "      <td>airbag</td>\n",
       "      <td>belted</td>\n",
       "      <td>1</td>\n",
       "      <td>f</td>\n",
       "      <td>53</td>\n",
       "      <td>1997</td>\n",
       "      <td>1995.0</td>\n",
       "      <td>deploy</td>\n",
       "      <td>driver</td>\n",
       "      <td>1</td>\n",
       "      <td>1.0</td>\n",
       "      <td>2:10:1</td>\n",
       "    </tr>\n",
       "    <tr>\n",
       "      <th>4</th>\n",
       "      <td>25-39</td>\n",
       "      <td>25.069</td>\n",
       "      <td>alive</td>\n",
       "      <td>none</td>\n",
       "      <td>belted</td>\n",
       "      <td>1</td>\n",
       "      <td>f</td>\n",
       "      <td>32</td>\n",
       "      <td>1997</td>\n",
       "      <td>1988.0</td>\n",
       "      <td>unavail</td>\n",
       "      <td>driver</td>\n",
       "      <td>0</td>\n",
       "      <td>3.0</td>\n",
       "      <td>2:11:1</td>\n",
       "    </tr>\n",
       "  </tbody>\n",
       "</table>\n",
       "</div>"
      ],
      "text/plain": [
       "   dvcat   weight   dead  airbag seatbelt  frontal sex  ageOFocc  yearacc  \\\n",
       "0  25-39   25.069  alive    none   belted        1   f        26     1997   \n",
       "1  10-24   25.069  alive  airbag   belted        1   f        72     1997   \n",
       "2  10-24   32.379  alive    none     none        1   f        69     1997   \n",
       "3  25-39  495.444  alive  airbag   belted        1   f        53     1997   \n",
       "4  25-39   25.069  alive    none   belted        1   f        32     1997   \n",
       "\n",
       "   yearVeh    abcat occRole  deploy  injSeverity  caseid  \n",
       "0   1990.0  unavail  driver       0          3.0   2:3:1  \n",
       "1   1995.0   deploy  driver       1          1.0   2:3:2  \n",
       "2   1988.0  unavail  driver       0          4.0   2:5:1  \n",
       "3   1995.0   deploy  driver       1          1.0  2:10:1  \n",
       "4   1988.0  unavail  driver       0          3.0  2:11:1  "
      ]
     },
     "execution_count": 2,
     "metadata": {},
     "output_type": "execute_result"
    }
   ],
   "source": [
    "X = pd.read_csv(\"deaths.csv\") # read the csv\n",
    "X.drop(['Unnamed: 0'], axis=1, inplace=True)\n",
    "X.head() # visualize data frame head"
   ]
  },
  {
   "cell_type": "code",
   "execution_count": 3,
   "metadata": {},
   "outputs": [
    {
     "data": {
      "text/plain": [
       "dvcat            0\n",
       "weight           0\n",
       "dead             0\n",
       "airbag           0\n",
       "seatbelt         0\n",
       "frontal          0\n",
       "sex              0\n",
       "ageOFocc         0\n",
       "yearacc          0\n",
       "yearVeh          1\n",
       "abcat            0\n",
       "occRole          0\n",
       "deploy           0\n",
       "injSeverity    153\n",
       "caseid           0\n",
       "dtype: int64"
      ]
     },
     "execution_count": 3,
     "metadata": {},
     "output_type": "execute_result"
    }
   ],
   "source": [
    "X.isnull().sum() # check for missing values\n",
    "\n",
    "# injSeverity and yearacc has missing values"
   ]
  },
  {
   "cell_type": "code",
   "execution_count": 4,
   "metadata": {},
   "outputs": [
    {
     "data": {
      "text/plain": [
       "alive    25037\n",
       "dead      1180\n",
       "Name: dead, dtype: int64"
      ]
     },
     "execution_count": 4,
     "metadata": {},
     "output_type": "execute_result"
    }
   ],
   "source": [
    "X['dead'].value_counts() # the target class is imbalanced.\n",
    "\n",
    "# I wanted to first train the model without any upsampling of minority class\n",
    "# or downsampling of majority class to see how the classifier performs on \n",
    "# imbalanced dataset."
   ]
  },
  {
   "cell_type": "markdown",
   "metadata": {},
   "source": [
    "### Imputing missing value\n",
    "\n",
    "I have chosen to impute the missing values for variable 'injSeverity' because there are a considerables no.of rows with missing value for Series 'injSeverity'\n"
   ]
  },
  {
   "cell_type": "code",
   "execution_count": 5,
   "metadata": {
    "collapsed": true
   },
   "outputs": [],
   "source": [
    "# impute missing values with 5.0 or 'unknown' values since \n",
    "X.loc[X[\"injSeverity\"].isnull(), \"injSeverity\"] = 5.0"
   ]
  },
  {
   "cell_type": "code",
   "execution_count": 6,
   "metadata": {
    "collapsed": true
   },
   "outputs": [],
   "source": [
    "# drop row(s) containing missing values. One missing value\n",
    "# for the variable 'yearVeh' is dropped\n",
    "X.dropna(how='any', inplace=True)"
   ]
  },
  {
   "cell_type": "markdown",
   "metadata": {},
   "source": [
    "### Modify categorical values for ease of defining dummy variables"
   ]
  },
  {
   "cell_type": "code",
   "execution_count": 7,
   "metadata": {
    "collapsed": true
   },
   "outputs": [],
   "source": [
    "X.replace({\n",
    "    '1-9km/h': '1_to_9',\n",
    "    '10-24': '10_to_24',\n",
    "    '25-39': '25_to_39',\n",
    "    '40-54': '40_to_54',\n",
    "    '55+': '55_plus'\n",
    "}, inplace=True)"
   ]
  },
  {
   "cell_type": "markdown",
   "metadata": {},
   "source": [
    "### Creating dummy variables to handle categorical variables"
   ]
  },
  {
   "cell_type": "code",
   "execution_count": 8,
   "metadata": {
    "collapsed": true
   },
   "outputs": [],
   "source": [
    "dummies_list = ['dvcat', 'airbag', 'seatbelt', 'sex', 'abcat', 'occRole']\n",
    "X = pd.get_dummies(X, columns=dummies_list, drop_first=True)"
   ]
  },
  {
   "cell_type": "markdown",
   "metadata": {},
   "source": [
    "### Label Encoding\n",
    "The target variable is label encoded"
   ]
  },
  {
   "cell_type": "code",
   "execution_count": 9,
   "metadata": {
    "collapsed": true
   },
   "outputs": [],
   "source": [
    "# dead column\n",
    "X['dead'] = X.dead.map({'alive': 1, 'dead': 0})"
   ]
  },
  {
   "cell_type": "code",
   "execution_count": 10,
   "metadata": {},
   "outputs": [
    {
     "data": {
      "text/html": [
       "<div>\n",
       "<style>\n",
       "    .dataframe thead tr:only-child th {\n",
       "        text-align: right;\n",
       "    }\n",
       "\n",
       "    .dataframe thead th {\n",
       "        text-align: left;\n",
       "    }\n",
       "\n",
       "    .dataframe tbody tr th {\n",
       "        vertical-align: top;\n",
       "    }\n",
       "</style>\n",
       "<table border=\"1\" class=\"dataframe\">\n",
       "  <thead>\n",
       "    <tr style=\"text-align: right;\">\n",
       "      <th></th>\n",
       "      <th>weight</th>\n",
       "      <th>dead</th>\n",
       "      <th>frontal</th>\n",
       "      <th>ageOFocc</th>\n",
       "      <th>yearacc</th>\n",
       "      <th>yearVeh</th>\n",
       "      <th>deploy</th>\n",
       "      <th>injSeverity</th>\n",
       "      <th>caseid</th>\n",
       "      <th>dvcat_1_to_9</th>\n",
       "      <th>dvcat_25_to_39</th>\n",
       "      <th>dvcat_40_to_54</th>\n",
       "      <th>dvcat_55_plus</th>\n",
       "      <th>airbag_none</th>\n",
       "      <th>seatbelt_none</th>\n",
       "      <th>sex_m</th>\n",
       "      <th>abcat_nodeploy</th>\n",
       "      <th>abcat_unavail</th>\n",
       "      <th>occRole_pass</th>\n",
       "    </tr>\n",
       "  </thead>\n",
       "  <tbody>\n",
       "    <tr>\n",
       "      <th>0</th>\n",
       "      <td>25.069</td>\n",
       "      <td>1</td>\n",
       "      <td>1</td>\n",
       "      <td>26</td>\n",
       "      <td>1997</td>\n",
       "      <td>1990.0</td>\n",
       "      <td>0</td>\n",
       "      <td>3.0</td>\n",
       "      <td>2:3:1</td>\n",
       "      <td>0</td>\n",
       "      <td>1</td>\n",
       "      <td>0</td>\n",
       "      <td>0</td>\n",
       "      <td>1</td>\n",
       "      <td>0</td>\n",
       "      <td>0</td>\n",
       "      <td>0</td>\n",
       "      <td>1</td>\n",
       "      <td>0</td>\n",
       "    </tr>\n",
       "    <tr>\n",
       "      <th>1</th>\n",
       "      <td>25.069</td>\n",
       "      <td>1</td>\n",
       "      <td>1</td>\n",
       "      <td>72</td>\n",
       "      <td>1997</td>\n",
       "      <td>1995.0</td>\n",
       "      <td>1</td>\n",
       "      <td>1.0</td>\n",
       "      <td>2:3:2</td>\n",
       "      <td>0</td>\n",
       "      <td>0</td>\n",
       "      <td>0</td>\n",
       "      <td>0</td>\n",
       "      <td>0</td>\n",
       "      <td>0</td>\n",
       "      <td>0</td>\n",
       "      <td>0</td>\n",
       "      <td>0</td>\n",
       "      <td>0</td>\n",
       "    </tr>\n",
       "    <tr>\n",
       "      <th>2</th>\n",
       "      <td>32.379</td>\n",
       "      <td>1</td>\n",
       "      <td>1</td>\n",
       "      <td>69</td>\n",
       "      <td>1997</td>\n",
       "      <td>1988.0</td>\n",
       "      <td>0</td>\n",
       "      <td>4.0</td>\n",
       "      <td>2:5:1</td>\n",
       "      <td>0</td>\n",
       "      <td>0</td>\n",
       "      <td>0</td>\n",
       "      <td>0</td>\n",
       "      <td>1</td>\n",
       "      <td>1</td>\n",
       "      <td>0</td>\n",
       "      <td>0</td>\n",
       "      <td>1</td>\n",
       "      <td>0</td>\n",
       "    </tr>\n",
       "    <tr>\n",
       "      <th>3</th>\n",
       "      <td>495.444</td>\n",
       "      <td>1</td>\n",
       "      <td>1</td>\n",
       "      <td>53</td>\n",
       "      <td>1997</td>\n",
       "      <td>1995.0</td>\n",
       "      <td>1</td>\n",
       "      <td>1.0</td>\n",
       "      <td>2:10:1</td>\n",
       "      <td>0</td>\n",
       "      <td>1</td>\n",
       "      <td>0</td>\n",
       "      <td>0</td>\n",
       "      <td>0</td>\n",
       "      <td>0</td>\n",
       "      <td>0</td>\n",
       "      <td>0</td>\n",
       "      <td>0</td>\n",
       "      <td>0</td>\n",
       "    </tr>\n",
       "    <tr>\n",
       "      <th>4</th>\n",
       "      <td>25.069</td>\n",
       "      <td>1</td>\n",
       "      <td>1</td>\n",
       "      <td>32</td>\n",
       "      <td>1997</td>\n",
       "      <td>1988.0</td>\n",
       "      <td>0</td>\n",
       "      <td>3.0</td>\n",
       "      <td>2:11:1</td>\n",
       "      <td>0</td>\n",
       "      <td>1</td>\n",
       "      <td>0</td>\n",
       "      <td>0</td>\n",
       "      <td>1</td>\n",
       "      <td>0</td>\n",
       "      <td>0</td>\n",
       "      <td>0</td>\n",
       "      <td>1</td>\n",
       "      <td>0</td>\n",
       "    </tr>\n",
       "  </tbody>\n",
       "</table>\n",
       "</div>"
      ],
      "text/plain": [
       "    weight  dead  frontal  ageOFocc  yearacc  yearVeh  deploy  injSeverity  \\\n",
       "0   25.069     1        1        26     1997   1990.0       0          3.0   \n",
       "1   25.069     1        1        72     1997   1995.0       1          1.0   \n",
       "2   32.379     1        1        69     1997   1988.0       0          4.0   \n",
       "3  495.444     1        1        53     1997   1995.0       1          1.0   \n",
       "4   25.069     1        1        32     1997   1988.0       0          3.0   \n",
       "\n",
       "   caseid  dvcat_1_to_9  dvcat_25_to_39  dvcat_40_to_54  dvcat_55_plus  \\\n",
       "0   2:3:1             0               1               0              0   \n",
       "1   2:3:2             0               0               0              0   \n",
       "2   2:5:1             0               0               0              0   \n",
       "3  2:10:1             0               1               0              0   \n",
       "4  2:11:1             0               1               0              0   \n",
       "\n",
       "   airbag_none  seatbelt_none  sex_m  abcat_nodeploy  abcat_unavail  \\\n",
       "0            1              0      0               0              1   \n",
       "1            0              0      0               0              0   \n",
       "2            1              1      0               0              1   \n",
       "3            0              0      0               0              0   \n",
       "4            1              0      0               0              1   \n",
       "\n",
       "   occRole_pass  \n",
       "0             0  \n",
       "1             0  \n",
       "2             0  \n",
       "3             0  \n",
       "4             0  "
      ]
     },
     "execution_count": 10,
     "metadata": {},
     "output_type": "execute_result"
    }
   ],
   "source": [
    "X.head()"
   ]
  },
  {
   "cell_type": "code",
   "execution_count": 11,
   "metadata": {
    "collapsed": true
   },
   "outputs": [],
   "source": [
    "Y = X.pop('dead') # target values"
   ]
  },
  {
   "cell_type": "code",
   "execution_count": 12,
   "metadata": {
    "collapsed": true
   },
   "outputs": [],
   "source": [
    "# divide the dataset into train and test set.\n",
    "# train set will be used to build the model\n",
    "# test set will be used to evaluate the model\n",
    "\n",
    "# stratified split is used to preserve the ratio between the majority\n",
    "# and minority class\n",
    "from sklearn.model_selection import StratifiedShuffleSplit\n",
    "\n",
    "ss = StratifiedShuffleSplit(n_splits=1, test_size=0.3, random_state=2)\n",
    "for train_index, test_index in ss.split(X, Y):\n",
    "    #print(\"TRAIN:\", train_index, \"TEST:\", test_index)\n",
    "    X_train, X_test = X.loc[train_index,], X.loc[test_index,]\n",
    "    y_train, y_test = Y.loc[train_index,], Y.loc[test_index,]\n",
    "    \n",
    "X_train = pd.concat([X_train, y_train], axis=1)\n",
    "\n",
    "# drop the unique identifier 'caseid'\n",
    "X_train.drop(['caseid'], axis=1, inplace=True)\n",
    "\n",
    "X_train.dropna(how='any', inplace=True)\n",
    "\n",
    "y_train = X_train.pop('dead')"
   ]
  },
  {
   "cell_type": "markdown",
   "metadata": {},
   "source": [
    "### Logistic Regression Classifier"
   ]
  },
  {
   "cell_type": "code",
   "execution_count": 13,
   "metadata": {},
   "outputs": [
    {
     "name": "stderr",
     "output_type": "stream",
     "text": [
      "/usr/local/lib/python2.7/dist-packages/sklearn/cross_validation.py:41: DeprecationWarning: This module was deprecated in version 0.18 in favor of the model_selection module into which all the refactored classes and functions are moved. Also note that the interface of the new CV iterators are different from that of this module. This module will be removed in 0.20.\n",
      "  \"This module will be removed in 0.20.\", DeprecationWarning)\n"
     ]
    }
   ],
   "source": [
    "from sklearn.linear_model import LogisticRegression\n",
    "from sklearn.metrics import accuracy_score\n",
    "from sklearn.cross_validation import cross_val_score\n",
    "\n",
    "# using 10-fold cross-validation on the train dataset to find the best\n",
    "# weighted classifier. Different penalties will be applied on the minority\n",
    "# class\n",
    "\n",
    "# 0 being the dead class, which is under-represented, should be penalised more\n",
    "# for making a wrong prediction\n",
    "\n",
    "scores_lr = []\n",
    "\n",
    "for i in range(1, 10):\n",
    "    clf = LogisticRegression(class_weight={1: 1, 0: i}).fit(X_train, y_train)\n",
    "    score = cross_val_score(clf, X_train, y_train, cv = 10)\n",
    "    scores_lr.append(score)"
   ]
  },
  {
   "cell_type": "markdown",
   "metadata": {},
   "source": [
    "### Visualization of classification accuracy with box plots"
   ]
  },
  {
   "cell_type": "code",
   "execution_count": 14,
   "metadata": {},
   "outputs": [
    {
     "data": {
      "image/png": "[encoded data removed]",
      "text/plain": [
       "<matplotlib.figure.Figure at 0x7f66c2239e90>"
      ]
     },
     "metadata": {},
     "output_type": "display_data"
    }
   ],
   "source": [
    "import seaborn as sns\n",
    "import matplotlib.pyplot as plt\n",
    "%matplotlib inline\n",
    "\n",
    "plt.figure(figsize=(15,8))\n",
    "\n",
    "sns.boxplot(data=scores_lr)\n",
    "plt.xlabel('Minority class weights')\n",
    "plt.ylabel('Classification score')\n",
    "plt.title('Logistic Regression')\n",
    "plt.show()"
   ]
  },
  {
   "cell_type": "code",
   "execution_count": 15,
   "metadata": {
    "collapsed": true
   },
   "outputs": [],
   "source": [
    "# weight=3 seems to be a resonable choice from the graph\n",
    "# since it has the highest classfication score\n",
    "\n",
    "test_id = X_test.pop('caseid') # drop unwanted column\n",
    "\n",
    "clf = LogisticRegression(class_weight={1: 1, 0: 3}).fit(X_train, y_train)"
   ]
  },
  {
   "cell_type": "code",
   "execution_count": 16,
   "metadata": {},
   "outputs": [
    {
     "name": "stdout",
     "output_type": "stream",
     "text": [
      "F1-score: 0.984106802289\n"
     ]
    }
   ],
   "source": [
    "from sklearn.metrics import f1_score, confusion_matrix, roc_auc_score\n",
    "\n",
    "y_pred = clf.predict(X_test)\n",
    "print(\"F1-score: {0}\".format(f1_score(y_test, y_pred, average='micro'))) # f1-score"
   ]
  },
  {
   "cell_type": "code",
   "execution_count": 17,
   "metadata": {},
   "outputs": [
    {
     "name": "stdout",
     "output_type": "stream",
     "text": [
      "AUC-ROC score: 0.984050632911\n"
     ]
    }
   ],
   "source": [
    "# predict class probability\n",
    "y_pred_prob = clf.predict_proba(X_test)\n",
    "\n",
    "y_pred_prob = [p[1] for p in y_pred_prob]\n",
    "\n",
    "print(\"AUC-ROC score: {0}\".format(roc_auc_score(y_test, y_pred_prob)))"
   ]
  },
  {
   "cell_type": "code",
   "execution_count": 18,
   "metadata": {},
   "outputs": [
    {
     "data": {
      "text/plain": [
       "array([[ 324,   36],\n",
       "       [  89, 7416]])"
      ]
     },
     "execution_count": 18,
     "metadata": {},
     "output_type": "execute_result"
    }
   ],
   "source": [
    "# print the confusion matrix\n",
    "conf_mat = confusion_matrix(y_test, y_pred) # confusion matrix\n",
    "conf_mat"
   ]
  },
  {
   "cell_type": "code",
   "execution_count": 19,
   "metadata": {},
   "outputs": [
    {
     "data": {
      "text/plain": [
       "1    7505\n",
       "0     360\n",
       "Name: dead, dtype: int64"
      ]
     },
     "execution_count": 19,
     "metadata": {},
     "output_type": "execute_result"
    }
   ],
   "source": [
    "y_test.value_counts() # true class counts of the test set"
   ]
  },
  {
   "cell_type": "markdown",
   "metadata": {},
   "source": [
    "### Discussion\n",
    "\n",
    "Since, the dataset is imbalanced, using a logistic regression classifier with equal weights might not be wise. It is because it will always try to vote for the majority class.\n",
    "\n",
    "Hence, the model must penalise the missclassification of minority class more than the majority class. A class weight of 3 is used for the minority class. In other words, the model penalises a mis-classification of <b>dead</b> class 3 times more than it would penalise a mis-classification of <b>alive</b> class. This approach improves the accuracy.\n",
    "\n",
    "As we can see, out of 360 <b>dead</b> observations, it is able to correctly classify <b>324</b> observations."
   ]
  }
 ],
 "metadata": {
  "kernelspec": {
   "display_name": "Python 2",
   "language": "python",
   "name": "python2"
  },
  "language_info": {
   "codemirror_mode": {
    "name": "ipython",
    "version": 2
   },
   "file_extension": ".py",
   "mimetype": "text/x-python",
   "name": "python",
   "nbconvert_exporter": "python",
   "pygments_lexer": "ipython2",
   "version": "2.7.12"
  }
 },
 "nbformat": 4,
 "nbformat_minor": 2
}
