{
 "cells": [
  {
   "cell_type": "markdown",
   "metadata": {},
   "source": [
    "# Nextbit Test\n",
    "\n",
    "### Data description\n",
    "`deaths.csv` contains US data, for 1997-2002, from police-reported car crashes in which there is a harmful event (people or property), and from which at least one vehicle was towed. Data are restricted to front-seat occupants, include only a subset of the variables recorded, and are restricted in other ways also.\n",
    "\n",
    "**Format:**\n",
    "A data frame with 26217 observations on the following 15 variables.\n",
    "\n",
    "- `dvcat`: ordered factor with levels (estimated impact speeds) 1-9km/h, 10-24, 25-39, 40-54, 55+\n",
    "- `weight`:\n",
    "observation weights, albeit of uncertain accuracy, designed to account for varying sampling probabilities.\n",
    "- `dead`:\n",
    "factor with levels alive dead\n",
    "- `airbag`:\n",
    "a factor with levels none airbag\n",
    "- `seatbelt`:\n",
    "a factor with levels none belted\n",
    "- `frontal`:\n",
    "a numeric vector; 0 = non-frontal, 1=frontal impact\n",
    "- `sex`:\n",
    "a factor with levels f m\n",
    "- `ageOFocc`:\n",
    "age of occupant in years\n",
    "- `yearacc`:\n",
    "year of accident\n",
    "- `yearVeh`:\n",
    "Year of model of vehicle; a numeric vector\n",
    "- `abcat`:\n",
    "did one or more (driver or passenger) airbag(s) deploy? This factor has levels deploy nodeploy unavail\n",
    "- `occRole`:\n",
    "a factor with levels driver pass\n",
    "- `deploy`:\n",
    "a numeric vector: 0 if an airbag was unavailable or did not deploy; 1 if one or more bags deployed.\n",
    "- `injSeverity`:\n",
    "a numeric vector; 0:none, 1:possible injury, 2:no incapacity, 3:incapacity, 4:killed; 5:unknown, 6:prior death\n",
    "- `caseid`:\n",
    "character, created by pasting together the populations sampling unit, the case number, and the vehicle number. Within each year, use this to uniquely identify the vehicle.\n",
    "\n",
    "### Exercises\n",
    "- **E1.** Develop different models to predict the variable `dead` (alive or dead). Explain your choices.\n",
    "- **E2.** Select the best model and explain your choice.\n",
    "- **E3.** *(optional)* Train a neural network to predict the variable `dead`. Explain your choices. Did you achieve a better performance with respect to the model selected in **E2.**? Why?"
   ]
  },
  {
   "cell_type": "markdown",
   "metadata": {
    "collapsed": true
   },
   "source": [
    "### Classifier: K-Nearest Neighbours"
   ]
  },
  {
   "cell_type": "code",
   "execution_count": 1,
   "metadata": {
    "collapsed": true
   },
   "outputs": [],
   "source": [
    "import numpy as np\n",
    "import pandas as pd\n",
    "\n",
    "np.random.seed(123)"
   ]
  },
  {
   "cell_type": "code",
   "execution_count": 2,
   "metadata": {},
   "outputs": [
    {
     "data": {
      "text/html": [
       "<div>\n",
       "<style>\n",
       "    .dataframe thead tr:only-child th {\n",
       "        text-align: right;\n",
       "    }\n",
       "\n",
       "    .dataframe thead th {\n",
       "        text-align: left;\n",
       "    }\n",
       "\n",
       "    .dataframe tbody tr th {\n",
       "        vertical-align: top;\n",
       "    }\n",
       "</style>\n",
       "<table border=\"1\" class=\"dataframe\">\n",
       "  <thead>\n",
       "    <tr style=\"text-align: right;\">\n",
       "      <th></th>\n",
       "      <th>dvcat</th>\n",
       "      <th>weight</th>\n",
       "      <th>dead</th>\n",
       "      <th>airbag</th>\n",
       "      <th>seatbelt</th>\n",
       "      <th>frontal</th>\n",
       "      <th>sex</th>\n",
       "      <th>ageOFocc</th>\n",
       "      <th>yearacc</th>\n",
       "      <th>yearVeh</th>\n",
       "      <th>abcat</th>\n",
       "      <th>occRole</th>\n",
       "      <th>deploy</th>\n",
       "      <th>injSeverity</th>\n",
       "      <th>caseid</th>\n",
       "    </tr>\n",
       "  </thead>\n",
       "  <tbody>\n",
       "    <tr>\n",
       "      <th>0</th>\n",
       "      <td>25-39</td>\n",
       "      <td>25.069</td>\n",
       "      <td>alive</td>\n",
       "      <td>none</td>\n",
       "      <td>belted</td>\n",
       "      <td>1</td>\n",
       "      <td>f</td>\n",
       "      <td>26</td>\n",
       "      <td>1997</td>\n",
       "      <td>1990.0</td>\n",
       "      <td>unavail</td>\n",
       "      <td>driver</td>\n",
       "      <td>0</td>\n",
       "      <td>3.0</td>\n",
       "      <td>2:3:1</td>\n",
       "    </tr>\n",
       "    <tr>\n",
       "      <th>1</th>\n",
       "      <td>10-24</td>\n",
       "      <td>25.069</td>\n",
       "      <td>alive</td>\n",
       "      <td>airbag</td>\n",
       "      <td>belted</td>\n",
       "      <td>1</td>\n",
       "      <td>f</td>\n",
       "      <td>72</td>\n",
       "      <td>1997</td>\n",
       "      <td>1995.0</td>\n",
       "      <td>deploy</td>\n",
       "      <td>driver</td>\n",
       "      <td>1</td>\n",
       "      <td>1.0</td>\n",
       "      <td>2:3:2</td>\n",
       "    </tr>\n",
       "    <tr>\n",
       "      <th>2</th>\n",
       "      <td>10-24</td>\n",
       "      <td>32.379</td>\n",
       "      <td>alive</td>\n",
       "      <td>none</td>\n",
       "      <td>none</td>\n",
       "      <td>1</td>\n",
       "      <td>f</td>\n",
       "      <td>69</td>\n",
       "      <td>1997</td>\n",
       "      <td>1988.0</td>\n",
       "      <td>unavail</td>\n",
       "      <td>driver</td>\n",
       "      <td>0</td>\n",
       "      <td>4.0</td>\n",
       "      <td>2:5:1</td>\n",
       "    </tr>\n",
       "    <tr>\n",
       "      <th>3</th>\n",
       "      <td>25-39</td>\n",
       "      <td>495.444</td>\n",
       "      <td>alive</td>\n",
       "      <td>airbag</td>\n",
       "      <td>belted</td>\n",
       "      <td>1</td>\n",
       "      <td>f</td>\n",
       "      <td>53</td>\n",
       "      <td>1997</td>\n",
       "      <td>1995.0</td>\n",
       "      <td>deploy</td>\n",
       "      <td>driver</td>\n",
       "      <td>1</td>\n",
       "      <td>1.0</td>\n",
       "      <td>2:10:1</td>\n",
       "    </tr>\n",
       "    <tr>\n",
       "      <th>4</th>\n",
       "      <td>25-39</td>\n",
       "      <td>25.069</td>\n",
       "      <td>alive</td>\n",
       "      <td>none</td>\n",
       "      <td>belted</td>\n",
       "      <td>1</td>\n",
       "      <td>f</td>\n",
       "      <td>32</td>\n",
       "      <td>1997</td>\n",
       "      <td>1988.0</td>\n",
       "      <td>unavail</td>\n",
       "      <td>driver</td>\n",
       "      <td>0</td>\n",
       "      <td>3.0</td>\n",
       "      <td>2:11:1</td>\n",
       "    </tr>\n",
       "  </tbody>\n",
       "</table>\n",
       "</div>"
      ],
      "text/plain": [
       "   dvcat   weight   dead  airbag seatbelt  frontal sex  ageOFocc  yearacc  \\\n",
       "0  25-39   25.069  alive    none   belted        1   f        26     1997   \n",
       "1  10-24   25.069  alive  airbag   belted        1   f        72     1997   \n",
       "2  10-24   32.379  alive    none     none        1   f        69     1997   \n",
       "3  25-39  495.444  alive  airbag   belted        1   f        53     1997   \n",
       "4  25-39   25.069  alive    none   belted        1   f        32     1997   \n",
       "\n",
       "   yearVeh    abcat occRole  deploy  injSeverity  caseid  \n",
       "0   1990.0  unavail  driver       0          3.0   2:3:1  \n",
       "1   1995.0   deploy  driver       1          1.0   2:3:2  \n",
       "2   1988.0  unavail  driver       0          4.0   2:5:1  \n",
       "3   1995.0   deploy  driver       1          1.0  2:10:1  \n",
       "4   1988.0  unavail  driver       0          3.0  2:11:1  "
      ]
     },
     "execution_count": 2,
     "metadata": {},
     "output_type": "execute_result"
    }
   ],
   "source": [
    "X = pd.read_csv(\"deaths.csv\") # read the csv\n",
    "X.drop(['Unnamed: 0'], axis=1, inplace=True)\n",
    "X.head() # visualize data frame head"
   ]
  },
  {
   "cell_type": "code",
   "execution_count": 3,
   "metadata": {},
   "outputs": [
    {
     "data": {
      "text/plain": [
       "dvcat            0\n",
       "weight           0\n",
       "dead             0\n",
       "airbag           0\n",
       "seatbelt         0\n",
       "frontal          0\n",
       "sex              0\n",
       "ageOFocc         0\n",
       "yearacc          0\n",
       "yearVeh          1\n",
       "abcat            0\n",
       "occRole          0\n",
       "deploy           0\n",
       "injSeverity    153\n",
       "caseid           0\n",
       "dtype: int64"
      ]
     },
     "execution_count": 3,
     "metadata": {},
     "output_type": "execute_result"
    }
   ],
   "source": [
    "X.isnull().sum() # check for missing values\n",
    "\n",
    "# injSeverity and yearacc has missing values"
   ]
  },
  {
   "cell_type": "code",
   "execution_count": 4,
   "metadata": {},
   "outputs": [
    {
     "data": {
      "text/plain": [
       "alive    25037\n",
       "dead      1180\n",
       "Name: dead, dtype: int64"
      ]
     },
     "execution_count": 4,
     "metadata": {},
     "output_type": "execute_result"
    }
   ],
   "source": [
    "X['dead'].value_counts() # the target class is imbalanced."
   ]
  },
  {
   "cell_type": "markdown",
   "metadata": {},
   "source": [
    "### Imputing missing value\n",
    "I have chosen to impute the missing values for variable 'injSeverity' because there are a considerables no.of rows with missing value for Series 'injSeverity'"
   ]
  },
  {
   "cell_type": "code",
   "execution_count": 5,
   "metadata": {
    "collapsed": true
   },
   "outputs": [],
   "source": [
    "# impute missing values with 5.0 or 'unknown' values since \n",
    "X.loc[X[\"injSeverity\"].isnull(), \"injSeverity\"] = 5.0"
   ]
  },
  {
   "cell_type": "code",
   "execution_count": 6,
   "metadata": {
    "collapsed": true
   },
   "outputs": [],
   "source": [
    "# drop row(s) containing missing values. One missing value\n",
    "# for the variable 'yearVeh' is dropped\n",
    "X.dropna(how='any', inplace=True)"
   ]
  },
  {
   "cell_type": "markdown",
   "metadata": {},
   "source": [
    "### Label Encoding\n",
    "\n",
    "Label encoding is done because the knn classifier is unable to handle character values\n"
   ]
  },
  {
   "cell_type": "code",
   "execution_count": 7,
   "metadata": {
    "collapsed": true
   },
   "outputs": [],
   "source": [
    "# performing label encoding for columns with string values\n",
    "\n",
    "# dead column\n",
    "X['dead'] = X.dead.map({'alive': 1, 'dead': 0})\n",
    "\n",
    "# airbag column\n",
    "X['airbag'] = X.airbag.map({'airbag': 1, 'none': 0})\n",
    "\n",
    "# seatbelt column\n",
    "X['seatbelt'] = X.seatbelt.map({'belted': 1, 'none': 0})\n",
    "\n",
    "# sex column\n",
    "X['sex'] = X.sex.map({'m': 1, 'f': 0})\n",
    "\n",
    "# abcat column\n",
    "X['abcat'] = X.abcat.map({'unavail': 2, 'deploy': 1, 'nodeploy': 0})\n",
    "\n",
    "# occRole column\n",
    "X['occRole'] = X.occRole.map({'driver': 1, 'pass': 0})\n",
    "\n",
    "# dvcat column\n",
    "X['dvcat'] = X.dvcat.map({'1-9km/h': 0, '10-24': 1, '25-39': 2, '40-54': 3, '55+': 4})"
   ]
  },
  {
   "cell_type": "code",
   "execution_count": 8,
   "metadata": {},
   "outputs": [
    {
     "data": {
      "text/html": [
       "<div>\n",
       "<style>\n",
       "    .dataframe thead tr:only-child th {\n",
       "        text-align: right;\n",
       "    }\n",
       "\n",
       "    .dataframe thead th {\n",
       "        text-align: left;\n",
       "    }\n",
       "\n",
       "    .dataframe tbody tr th {\n",
       "        vertical-align: top;\n",
       "    }\n",
       "</style>\n",
       "<table border=\"1\" class=\"dataframe\">\n",
       "  <thead>\n",
       "    <tr style=\"text-align: right;\">\n",
       "      <th></th>\n",
       "      <th>dvcat</th>\n",
       "      <th>weight</th>\n",
       "      <th>dead</th>\n",
       "      <th>airbag</th>\n",
       "      <th>seatbelt</th>\n",
       "      <th>frontal</th>\n",
       "      <th>sex</th>\n",
       "      <th>ageOFocc</th>\n",
       "      <th>yearacc</th>\n",
       "      <th>yearVeh</th>\n",
       "      <th>abcat</th>\n",
       "      <th>occRole</th>\n",
       "      <th>deploy</th>\n",
       "      <th>injSeverity</th>\n",
       "      <th>caseid</th>\n",
       "    </tr>\n",
       "  </thead>\n",
       "  <tbody>\n",
       "    <tr>\n",
       "      <th>0</th>\n",
       "      <td>2</td>\n",
       "      <td>25.069</td>\n",
       "      <td>1</td>\n",
       "      <td>0</td>\n",
       "      <td>1</td>\n",
       "      <td>1</td>\n",
       "      <td>0</td>\n",
       "      <td>26</td>\n",
       "      <td>1997</td>\n",
       "      <td>1990.0</td>\n",
       "      <td>2</td>\n",
       "      <td>1</td>\n",
       "      <td>0</td>\n",
       "      <td>3.0</td>\n",
       "      <td>2:3:1</td>\n",
       "    </tr>\n",
       "    <tr>\n",
       "      <th>1</th>\n",
       "      <td>1</td>\n",
       "      <td>25.069</td>\n",
       "      <td>1</td>\n",
       "      <td>1</td>\n",
       "      <td>1</td>\n",
       "      <td>1</td>\n",
       "      <td>0</td>\n",
       "      <td>72</td>\n",
       "      <td>1997</td>\n",
       "      <td>1995.0</td>\n",
       "      <td>1</td>\n",
       "      <td>1</td>\n",
       "      <td>1</td>\n",
       "      <td>1.0</td>\n",
       "      <td>2:3:2</td>\n",
       "    </tr>\n",
       "    <tr>\n",
       "      <th>2</th>\n",
       "      <td>1</td>\n",
       "      <td>32.379</td>\n",
       "      <td>1</td>\n",
       "      <td>0</td>\n",
       "      <td>0</td>\n",
       "      <td>1</td>\n",
       "      <td>0</td>\n",
       "      <td>69</td>\n",
       "      <td>1997</td>\n",
       "      <td>1988.0</td>\n",
       "      <td>2</td>\n",
       "      <td>1</td>\n",
       "      <td>0</td>\n",
       "      <td>4.0</td>\n",
       "      <td>2:5:1</td>\n",
       "    </tr>\n",
       "    <tr>\n",
       "      <th>3</th>\n",
       "      <td>2</td>\n",
       "      <td>495.444</td>\n",
       "      <td>1</td>\n",
       "      <td>1</td>\n",
       "      <td>1</td>\n",
       "      <td>1</td>\n",
       "      <td>0</td>\n",
       "      <td>53</td>\n",
       "      <td>1997</td>\n",
       "      <td>1995.0</td>\n",
       "      <td>1</td>\n",
       "      <td>1</td>\n",
       "      <td>1</td>\n",
       "      <td>1.0</td>\n",
       "      <td>2:10:1</td>\n",
       "    </tr>\n",
       "    <tr>\n",
       "      <th>4</th>\n",
       "      <td>2</td>\n",
       "      <td>25.069</td>\n",
       "      <td>1</td>\n",
       "      <td>0</td>\n",
       "      <td>1</td>\n",
       "      <td>1</td>\n",
       "      <td>0</td>\n",
       "      <td>32</td>\n",
       "      <td>1997</td>\n",
       "      <td>1988.0</td>\n",
       "      <td>2</td>\n",
       "      <td>1</td>\n",
       "      <td>0</td>\n",
       "      <td>3.0</td>\n",
       "      <td>2:11:1</td>\n",
       "    </tr>\n",
       "  </tbody>\n",
       "</table>\n",
       "</div>"
      ],
      "text/plain": [
       "   dvcat   weight  dead  airbag  seatbelt  frontal  sex  ageOFocc  yearacc  \\\n",
       "0      2   25.069     1       0         1        1    0        26     1997   \n",
       "1      1   25.069     1       1         1        1    0        72     1997   \n",
       "2      1   32.379     1       0         0        1    0        69     1997   \n",
       "3      2  495.444     1       1         1        1    0        53     1997   \n",
       "4      2   25.069     1       0         1        1    0        32     1997   \n",
       "\n",
       "   yearVeh  abcat  occRole  deploy  injSeverity  caseid  \n",
       "0   1990.0      2        1       0          3.0   2:3:1  \n",
       "1   1995.0      1        1       1          1.0   2:3:2  \n",
       "2   1988.0      2        1       0          4.0   2:5:1  \n",
       "3   1995.0      1        1       1          1.0  2:10:1  \n",
       "4   1988.0      2        1       0          3.0  2:11:1  "
      ]
     },
     "execution_count": 8,
     "metadata": {},
     "output_type": "execute_result"
    }
   ],
   "source": [
    "X.head() # visualize data after encoding"
   ]
  },
  {
   "cell_type": "code",
   "execution_count": 9,
   "metadata": {
    "collapsed": true
   },
   "outputs": [],
   "source": [
    "Y = X.pop('dead') # target values"
   ]
  },
  {
   "cell_type": "code",
   "execution_count": 10,
   "metadata": {
    "collapsed": true
   },
   "outputs": [],
   "source": [
    "# divide the dataset into train and test set.\n",
    "# train set will be used to build the model\n",
    "# test set will be used to evaluate the model\n",
    "\n",
    "# stratified split is used to preserve the ratio between the majority\n",
    "# and minority class\n",
    "from sklearn.model_selection import StratifiedShuffleSplit\n",
    "\n",
    "ss = StratifiedShuffleSplit(n_splits=1, test_size=0.3, random_state=2)\n",
    "for train_index, test_index in ss.split(X, Y):\n",
    "    #print(\"TRAIN:\", train_index, \"TEST:\", test_index)\n",
    "    X_train, X_test = X.loc[train_index,], X.loc[test_index,]\n",
    "    y_train, y_test = Y.loc[train_index,], Y.loc[test_index,]\n",
    "    \n",
    "\n",
    "X_train = pd.concat([X_train, y_train], axis=1)\n",
    "\n",
    "# drop the unique identifier 'caseid'\n",
    "X_train.drop(['caseid'], axis=1, inplace=True)\n",
    "\n",
    "X_train.dropna(how='any', inplace=True)\n",
    "\n",
    "y_train = X_train.pop('dead')"
   ]
  },
  {
   "cell_type": "markdown",
   "metadata": {},
   "source": [
    "### K Nearest Neighbour Classifier"
   ]
  },
  {
   "cell_type": "code",
   "execution_count": 11,
   "metadata": {},
   "outputs": [
    {
     "name": "stderr",
     "output_type": "stream",
     "text": [
      "/usr/local/lib/python2.7/dist-packages/sklearn/cross_validation.py:41: DeprecationWarning: This module was deprecated in version 0.18 in favor of the model_selection module into which all the refactored classes and functions are moved. Also note that the interface of the new CV iterators are different from that of this module. This module will be removed in 0.20.\n",
      "  \"This module will be removed in 0.20.\", DeprecationWarning)\n"
     ]
    }
   ],
   "source": [
    "from sklearn.neighbors import KNeighborsClassifier\n",
    "from sklearn.cross_validation import cross_val_score\n",
    "\n",
    "scores_knn = []\n",
    "\n",
    "# using 10-fold cross-validation on the train dataset to find the best \n",
    "# value of k\n",
    "for i in range(1, 21):\n",
    "    clf = KNeighborsClassifier(n_neighbors=i)\n",
    "    score = cross_val_score(clf, X_train, y_train, cv=10)\n",
    "    \n",
    "    scores_knn.append(score)"
   ]
  },
  {
   "cell_type": "markdown",
   "metadata": {},
   "source": [
    "### Visualization of classification accuracy with box plots"
   ]
  },
  {
   "cell_type": "code",
   "execution_count": 12,
   "metadata": {},
   "outputs": [
    {
     "data": {
      "image/png": "[encoded data removed]",
      "text/plain": [
       "<matplotlib.figure.Figure at 0x7f1c2b2d3110>"
      ]
     },
     "metadata": {},
     "output_type": "display_data"
    }
   ],
   "source": [
    "import seaborn as sns\n",
    "import matplotlib.pyplot as plt\n",
    "%matplotlib inline\n",
    "\n",
    "plt.figure(figsize=(15,8))\n",
    "\n",
    "sns.boxplot(data=scores_knn)\n",
    "plt.xlabel('No. of neighbours')\n",
    "plt.ylabel('Classification score')\n",
    "plt.title('K Nearest Neighbours')\n",
    "plt.show()"
   ]
  },
  {
   "cell_type": "code",
   "execution_count": 13,
   "metadata": {},
   "outputs": [
    {
     "name": "stdout",
     "output_type": "stream",
     "text": [
      "F1-score: 0.953719008264\n"
     ]
    }
   ],
   "source": [
    "test_id = X_test.pop('caseid') # drop unwanted column\n",
    "\n",
    "from sklearn.metrics import f1_score, confusion_matrix, roc_auc_score\n",
    "\n",
    "# k=5 is a reasonable estimate\n",
    "clf = KNeighborsClassifier(n_neighbors=5).fit(X_train, y_train)\n",
    "y_pred = clf.predict(X_test)\n",
    "print(\"F1-score: {0}\".format(f1_score(y_test, y_pred, average='micro'))) # f1-score"
   ]
  },
  {
   "cell_type": "code",
   "execution_count": 14,
   "metadata": {},
   "outputs": [
    {
     "name": "stdout",
     "output_type": "stream",
     "text": [
      "AUC-ROC score: 0.726814531053\n"
     ]
    }
   ],
   "source": [
    "# predict class probability\n",
    "y_pred_prob = clf.predict_proba(X_test)\n",
    "\n",
    "y_pred_prob = [p[1] for p in y_pred_prob]\n",
    "\n",
    "print(\"AUC-ROC score: {0}\".format(roc_auc_score(y_test, y_pred_prob)))"
   ]
  },
  {
   "cell_type": "code",
   "execution_count": 15,
   "metadata": {},
   "outputs": [
    {
     "data": {
      "text/plain": [
       "array([[  19,  341],\n",
       "       [  23, 7482]])"
      ]
     },
     "execution_count": 15,
     "metadata": {},
     "output_type": "execute_result"
    }
   ],
   "source": [
    "# print the confusion matrix\n",
    "conf_mat = confusion_matrix(y_test, y_pred) # confusion matrix\n",
    "conf_mat"
   ]
  },
  {
   "cell_type": "code",
   "execution_count": 16,
   "metadata": {},
   "outputs": [
    {
     "data": {
      "text/plain": [
       "1    7505\n",
       "0     360\n",
       "Name: dead, dtype: int64"
      ]
     },
     "execution_count": 16,
     "metadata": {},
     "output_type": "execute_result"
    }
   ],
   "source": [
    "y_test.value_counts() # true class counts of the test set"
   ]
  },
  {
   "cell_type": "markdown",
   "metadata": {},
   "source": [
    "### Discussion\n",
    "\n",
    "k-nn classifier performs poorly for the given dataset. Since, the nearness metric depends highly on the scale of the predictors, it will not yield the best results. Thus, it requires standardizing the inputs. \n",
    "\n",
    "It has a pretty low AUC-ROC score.\n",
    "\n",
    "As we can see, out of 360 <b>dead</b> observations, it is able to correctly classify only <b>19</b> observations, which is not good in terms of true performance."
   ]
  }
 ],
 "metadata": {
  "kernelspec": {
   "display_name": "Python 2",
   "language": "python",
   "name": "python2"
  },
  "language_info": {
   "codemirror_mode": {
    "name": "ipython",
    "version": 2
   },
   "file_extension": ".py",
   "mimetype": "text/x-python",
   "name": "python",
   "nbconvert_exporter": "python",
   "pygments_lexer": "ipython2",
   "version": "2.7.12"
  }
 },
 "nbformat": 4,
 "nbformat_minor": 2
}
